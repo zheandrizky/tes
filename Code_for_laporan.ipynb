{
  "nbformat": 4,
  "nbformat_minor": 0,
  "metadata": {
    "colab": {
      "provenance": []
    },
    "kernelspec": {
      "name": "python3",
      "display_name": "Python 3"
    },
    "language_info": {
      "name": "python"
    }
  },
  "cells": [
    {
      "cell_type": "code",
      "execution_count": null,
      "metadata": {
        "id": "UmHatsKC8hTb"
      },
      "outputs": [],
      "source": [
        "import pandas as pd\n",
        "\n",
        "from google.colab import drive\n",
        "from sklearn.preprocessing import LabelEncoder\n",
        "from imblearn.under_sampling import RandomUnderSampler\n",
        "from collections import Counter\n",
        "from sklearn.model_selection import train_test_split\n",
        "from tensorflow.keras.models import Sequential\n",
        "from tensorflow.keras.layers import Dense\n",
        "from tensorflow.keras.callbacks import EarlyStopping"
      ]
    },
    {
      "cell_type": "code",
      "source": [
        "drive.mount('/content/drive')\n",
        "\n",
        "# Path file di Google Drive\n",
        "file_path_1 = '/content/drive/MyDrive/capstone/diabetes_prediction_dataset.csv'\n",
        "file_path_2 = '/content/drive/MyDrive/capstone/preprocessed_diabetes_data.csv'\n",
        "\n",
        "# Membaca file CSV dari Google Drive\n",
        "df1 = pd.read_csv(file_path_1)\n",
        "df2 = pd.read_csv(file_path_2)\n",
        "\n",
        "\n",
        "# Memeriksa apakah kedua dataset memiliki dimensi yang sama\n",
        "if df1.shape == df2.shape:\n",
        "    print(\"Dataset memiliki jumlah baris dan kolom yang sama.\")\n",
        "\n",
        "    # Membandingkan apakah kedua dataset sama persis\n",
        "    if df1.equals(df2):\n",
        "        print(\"Isi kedua dataset sama persis.\")\n",
        "    else:\n",
        "        print(\"Isi kedua dataset berbeda.\")\n",
        "        # Menampilkan perbedaan secara lebih mendetail\n",
        "        comparison = df1.compare(df2)\n",
        "        print(\"Perbedaan antara kedua dataset:\")\n",
        "        print(comparison)\n",
        "else:\n",
        "    print(\"Dataset memiliki jumlah baris atau kolom yang berbeda.\")"
      ],
      "metadata": {
        "id": "fMOCeRUw8oiP"
      },
      "execution_count": null,
      "outputs": []
    },
    {
      "cell_type": "code",
      "source": [
        "drive.mount('/content/drive')\n",
        "\n",
        "# Path file di Google Drive\n",
        "file_path = '/content/drive/MyDrive/capstone/diabetes_prediction_dataset.csv'\n",
        "\n",
        "# Membaca file CSV dari Google Drive\n",
        "df = pd.read_csv(file_path)"
      ],
      "metadata": {
        "id": "fc389jBS80se"
      },
      "execution_count": null,
      "outputs": []
    },
    {
      "cell_type": "code",
      "source": [
        "df.isna().sum()"
      ],
      "metadata": {
        "id": "JL9zyFo39FK-"
      },
      "execution_count": null,
      "outputs": []
    },
    {
      "cell_type": "code",
      "source": [
        "df[df.duplicated()]"
      ],
      "metadata": {
        "id": "Y9PXCIL29OR3"
      },
      "execution_count": null,
      "outputs": []
    },
    {
      "cell_type": "code",
      "source": [
        "def classify_diabetes(row):\n",
        "    glucose = row['blood_glucose_level']\n",
        "    hba1c = row['HbA1c_level']\n",
        "    bmi = row['bmi']\n",
        "    age = row['age']\n",
        "    hypertension = row['hypertension']\n",
        "    heart_disease = row['heart_disease']\n",
        "    smoking = row['smoking_history']\n",
        "    gender = row['gender']\n",
        "    # Risiko berdasarkan smoking_history\n",
        "    if glucose > 140 or hba1c >= 7.0 or (hypertension == 1 and heart_disease == 1):\n",
        "        return 'Diabetes Tidak Terkendali'\n",
        "\n",
        "    # Diabetes Terkendali\n",
        "    if 126 <= glucose <= 140 or 6.5 <= hba1c < 7.0:\n",
        "        if hypertension == 0 and heart_disease == 0:\n",
        "            return 'Diabetes Terkendali'\n",
        "        return 'Diabetes Tidak Terkendali'\n",
        "\n",
        "    # Pra-diabetes\n",
        "    if 100 <= glucose < 126 or 5.7 <= hba1c < 6.5 or bmi >= 25:\n",
        "        # Gender-specific rules\n",
        "        if gender == 'Female' and bmi >= 30:\n",
        "            return 'Pra-diabetes'\n",
        "        elif gender == 'Male' and bmi >= 27:\n",
        "            return 'Pra-diabetes'\n",
        "        # Additional risk factors\n",
        "        if age > 45 or smoking in ['current', 'ever'] or hypertension == 1:\n",
        "            return 'Pra-diabetes'\n",
        "\n",
        "    # Normal\n",
        "    return 'Normal'\n",
        "\n",
        "# Menambahkan kolom diabetes_category dengan logika baru\n",
        "df['diabetes_category'] = df.apply(classify_diabetes, axis=1)\n",
        "\n",
        "print(df)"
      ],
      "metadata": {
        "id": "mxk7_inI9Xde"
      },
      "execution_count": null,
      "outputs": []
    },
    {
      "cell_type": "code",
      "source": [
        "label_encoder = LabelEncoder()\n",
        "df['gender_encoded'] = label_encoder.fit_transform(df['gender'])\n",
        "\n",
        "# Tentukan urutan yang diinginkan\n",
        "smoking_order = ['No Info', 'never', 'former', 'current', 'not current', 'ever']\n",
        "\n",
        "# Gunakan pd.Categorical untuk memberikan urutan pada kategori\n",
        "df['smoking_history_encoded'] = pd.Categorical(df['smoking_history'], categories=smoking_order, ordered=True).codes\n",
        "\n",
        "# Tentukan urutan yang diinginkan\n",
        "diabetes_order = ['Normal', 'Pra-diabetes', 'Diabetes Terkendali', 'Diabetes Tidak Terkendali']\n",
        "\n",
        "# Gunakan pd.Categorical untuk memberikan urutan pada kategori\n",
        "df['diabetes_category_encoded'] = pd.Categorical(df['diabetes_category'], categories=diabetes_order, ordered=True).codes\n",
        "\n",
        "print(df)"
      ],
      "metadata": {
        "id": "w2wVGZps9hIO"
      },
      "execution_count": null,
      "outputs": []
    },
    {
      "cell_type": "code",
      "source": [
        "# Pisahkan fitur (X) dan target (y)\n",
        "X = df.drop(columns=['gender','smoking_history','diabetes', 'diabetes_category', 'diabetes_category_encoded'])\n",
        "y = df['diabetes_category_encoded']\n",
        "\n",
        "print(X.head())\n",
        "\n",
        "# Menentukan strategi sampling agar setiap kelas memiliki 9040 data\n",
        "sampling_strategy = {\n",
        "    3: 9040,  # Diabetes Tidak Terkendali\n",
        "    2: 9040,  # Diabetes Terkendali\n",
        "    1: 9040,  # Pra-diabetes\n",
        "    0: 9040   # Normal\n",
        "}\n",
        "\n",
        "# Membuat instance RandomUnderSampler dengan sampling_strategy dictionary\n",
        "under_sampler = RandomUnderSampler(sampling_strategy=sampling_strategy, random_state=42)\n",
        "\n",
        "# Lakukan under-sampling pada dataset\n",
        "X_resampled, y_resampled = under_sampler.fit_resample(X, y)\n",
        "\n",
        "# Menampilkan distribusi kelas setelah under-sampling\n",
        "print(f\"Distribusi kelas setelah under-sampling: {Counter(y_resampled)}\")\n",
        "\n",
        "# Membagi data yang sudah di-resample menjadi data pelatihan dan data validasi\n",
        "X_train, X_val, y_train, y_val = train_test_split(X_resampled, y_resampled, test_size=0.2, random_state=42)\n",
        "\n",
        "# Cek bentuk data untuk memastikan pembagian yang benar\n",
        "print(f\"Jumlah data pelatihan: {X_train.shape[0]}\")\n",
        "print(f\"Jumlah data validasi: {X_val.shape[0]}\")"
      ],
      "metadata": {
        "id": "pZFeFDKn9nYd"
      },
      "execution_count": null,
      "outputs": []
    },
    {
      "cell_type": "code",
      "source": [
        "import matplotlib.pyplot as plt\n",
        "import seaborn as sns\n",
        "from collections import Counter\n",
        "\n",
        "# Membuat visualisasi distribusi kelas setelah under-sampling\n",
        "plt.figure(figsize=(10, 6))  # Ukuran gambar lebih besar agar label lebih leluasa\n",
        "ax = sns.countplot(x=y_resampled, palette='viridis')\n",
        "\n",
        "# Menambahkan jumlah angka di dalam setiap batang dengan sedikit jarak dari batang\n",
        "for p in ax.patches:\n",
        "    # Mengambil tinggi (jumlah) batang\n",
        "    height = p.get_height()\n",
        "    # Menambahkan angka di dalam batang dengan sedikit jarak (misalnya +200)\n",
        "    ax.text(p.get_x() + p.get_width() / 2, height / 2 + 200, f'{int(height)}',\n",
        "            ha='center', va='center', fontsize=12, color='white')\n",
        "\n",
        "# Menambahkan judul dan label\n",
        "plt.title(\"Distribusi Kelas Setelah Under-Sampling\")\n",
        "plt.xlabel(\"Kelas Diabetes\")\n",
        "plt.ylabel(\"Jumlah Data\")\n",
        "\n",
        "# Mengatur label sumbu x dengan jarak yang lebih lebar agar tidak tumpang tindih\n",
        "plt.xticks(ticks=[0, 1, 2, 3],\n",
        "           labels=['Normal', 'Pra-diabetes', 'Diabetes Terkendali', 'Diabetes Tidak Terkendali'],\n",
        "           rotation=0,  # Tidak ada pemiringan\n",
        "           ha='center')  # Menjaga label tetap lurus dan terpusat\n",
        "\n",
        "# Menampilkan plot\n",
        "plt.show()\n"
      ],
      "metadata": {
        "id": "Gqc-sO1V92yh"
      },
      "execution_count": null,
      "outputs": []
    },
    {
      "cell_type": "code",
      "source": [
        "model = Sequential([\n",
        "    Dense(128, activation='relu', input_shape=(8,)),\n",
        "    Dense(64, activation='relu'),\n",
        "    Dense(4, activation='softmax')\n",
        "])\n",
        "\n",
        "# Compile model\n",
        "model.compile(optimizer='adam',\n",
        "              loss='sparse_categorical_crossentropy',\n",
        "              metrics=['accuracy'])\n",
        "\n",
        "model.summary()"
      ],
      "metadata": {
        "id": "ADgrNBBZ9oLu"
      },
      "execution_count": null,
      "outputs": []
    },
    {
      "cell_type": "code",
      "source": [
        "# Definisikan early stopping untuk menghindari overfitting\n",
        "early_stopping = EarlyStopping(monitor='val_loss',  # Memantau 'val_loss' untuk menghentikan pelatihan lebih awal\n",
        "                               patience=10,         # Berhenti jika tidak ada peningkatan dalam 10 epoch\n",
        "                               restore_best_weights=True)\n",
        "\n",
        "# Melatih model dengan data pelatihan dan validasi\n",
        "history = model.fit(X_train, y_train, epochs=80, batch_size=32,  # Atur epoch sesuai kebutuhan\n",
        "          validation_data=(X_val, y_val), callbacks=[early_stopping])  # Menggunakan data validasi"
      ],
      "metadata": {
        "id": "kmhhnUnb9qi-"
      },
      "execution_count": null,
      "outputs": []
    },
    {
      "cell_type": "code",
      "source": [
        "# Menghitung akurasi pada data test\n",
        "test_loss, test_accuracy = model.evaluate(X_val, y_val)\n",
        "\n",
        "# Menampilkan akurasi dalam persen\n",
        "print(f\"Test Accuracy: {test_accuracy * 100:.2f}%\")"
      ],
      "metadata": {
        "id": "9GcNQSIk9uCG"
      },
      "execution_count": null,
      "outputs": []
    },
    {
      "cell_type": "code",
      "source": [
        "import matplotlib.pyplot as plt\n",
        "\n",
        "# Plot Loss Curve\n",
        "plt.figure(figsize=(12, 6))\n",
        "\n",
        "# Plot loss pelatihan dan validasi\n",
        "plt.subplot(1, 2, 1)\n",
        "plt.plot(history.history['loss'], label='Training Loss')\n",
        "plt.plot(history.history['val_loss'], label='Validation Loss')\n",
        "plt.title('Loss Curve')\n",
        "plt.xlabel('Epoch')\n",
        "plt.ylabel('Loss')\n",
        "plt.legend()\n",
        "\n",
        "# Plot Accuracy Curve\n",
        "plt.subplot(1, 2, 2)\n",
        "plt.plot(history.history['accuracy'], label='Training Accuracy')\n",
        "plt.plot(history.history['val_accuracy'], label='Validation Accuracy')\n",
        "plt.title('Accuracy Curve')\n",
        "plt.xlabel('Epoch')\n",
        "plt.ylabel('Accuracy')\n",
        "plt.legend()\n",
        "\n",
        "# Menampilkan plot\n",
        "plt.tight_layout()\n",
        "plt.show()\n"
      ],
      "metadata": {
        "id": "U8ycJhvg9r-n"
      },
      "execution_count": null,
      "outputs": []
    },
    {
      "cell_type": "code",
      "source": [
        "model.save('diabetes_model.keras')"
      ],
      "metadata": {
        "id": "wr6FZeFJ9vw_"
      },
      "execution_count": null,
      "outputs": []
    }
  ]
}